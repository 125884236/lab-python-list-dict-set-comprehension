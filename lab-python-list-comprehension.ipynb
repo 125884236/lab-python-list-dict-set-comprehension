{
 "cells": [
  {
   "cell_type": "markdown",
   "id": "25d7736c-ba17-4aff-b6bb-66eba20fbf4e",
   "metadata": {},
   "source": [
    "# Lab | List, Dict and Set Comprehension"
   ]
  },
  {
   "cell_type": "markdown",
   "id": "7dd3cbde-675a-4b81-92c3-f728846dbe06",
   "metadata": {},
   "source": [
    "## Exercise: Managing Customer Orders Optimized with Comprehension"
   ]
  },
  {
   "cell_type": "markdown",
   "id": "5d500160-2fb7-4777-b5e4-09d45ebaf328",
   "metadata": {},
   "source": [
    "In the previous exercise, you developed a program to manage customer orders and inventory. Now, let's take it a step further and incorporate comprehension into your code.\n",
    "\n",
    "Follow the steps below to complete the exercise:\n",
    "\n",
    "1. Review your code from the previous exercise and identify areas where you can apply comprehension to simplify and streamline your code. \n",
    "\n",
    "    - *Hint: Apply it to initialize inventory, updating the inventory and printing the updated inventory.*\n",
    "    \n",
    "    - For example, in initializing the inventory, we could have:\n",
    "    \n",
    "        ```python\n",
    "        def initialize_inventory(products):\n",
    "            inventory = {product: int(input(f\"Enter the quantity of {product}s available: \")) for product in products}\n",
    "            return inventory\n",
    "\n",
    "        ```\n",
    "<br>\n",
    "    \n",
    "    \n",
    "2. Modify the function get_customer_orders so it prompts the user to enter the number of customer orders and gathers the product names using a loop and user input. Use comprehension.\n",
    "\n",
    "3. Add a new function to calculate the total price of the customer order. For each product in customer_orders, prompt the user to enter the price of that product. Use comprehension to calculate the total price. Note: assume that the user can only have 1 unit of each product.\n",
    "\n",
    "4. Modify the update_inventory function to remove the product from the inventory if its quantity becomes zero after fulfilling the customer orders. Use comprehension to filter out the products with a quantity of zero from the inventory.\n",
    "\n",
    "5. Print the total price of the customer order.\n",
    "\n",
    "Your code should produce output similar to the following:\n",
    "\n",
    "```python\n",
    "Enter the quantity of t-shirts available:  5\n",
    "Enter the quantity of mugs available:  4\n",
    "Enter the quantity of hats available:  3\n",
    "Enter the quantity of books available:  2\n",
    "Enter the quantity of keychains available:  1\n",
    "Enter the number of customer orders:  2\n",
    "Enter the name of a product that a customer wants to order:  hat\n",
    "Enter the name of a product that a customer wants to order:  keychain\n",
    "\n",
    "Order Statistics:\n",
    "Total Products Ordered: 2\n",
    "Percentage of Unique Products Ordered: 40.0\n",
    "\n",
    "Updated Inventory:\n",
    "t-shirt: 5\n",
    "mug: 4\n",
    "hat: 2\n",
    "book: 2\n",
    "Enter the price of keychain:  5\n",
    "Enter the price of hat:  10\n",
    "Total Price: 15.0\n",
    "\n",
    "```\n"
   ]
  },
  {
   "cell_type": "code",
   "execution_count": 56,
   "id": "22b64b77",
   "metadata": {},
   "outputs": [],
   "source": [
    "def initialize_inventory(products):\n",
    "    inventory = {product: (int(input(f\"Please, enter the quantity of {product} that are in stock: \").strip())) for product in products}\n",
    "    return inventory"
   ]
  },
  {
   "cell_type": "code",
   "execution_count": 57,
   "id": "ed51179f",
   "metadata": {},
   "outputs": [],
   "source": [
    "def get_customer_orders():\n",
    "    customer_orders = set()\n",
    "    while True:\n",
    "        user_input_1 = (input(\"Type the product that you would like to order: \")).lower().strip()\n",
    "        if user_input_1 in products:\n",
    "            if user_input_1 in customer_orders:\n",
    "                print(f\"{user_input_1} this product has already been ordered. Try again!\")\n",
    "            else:\n",
    "                customer_orders.add(user_input_1)\n",
    "        else:\n",
    "            print(f\"{user_input_1} this product is not available\")\n",
    "        user_input_2 = (input(\"Would you like to add another product? Type yes/no\")).strip().lower() \n",
    "        if user_input_2 == \"no\":\n",
    "            break\n",
    "    return customer_orders\n"
   ]
  },
  {
   "cell_type": "code",
   "execution_count": 58,
   "id": "7625263a",
   "metadata": {},
   "outputs": [],
   "source": [
    "def update_inventory(customer_orders, inventory):\n",
    "    inventory = {product: inventory[product] - 1 if product in customer_orders else inventory[product] for product in inventory}\n",
    "    return inventory"
   ]
  },
  {
   "cell_type": "code",
   "execution_count": 59,
   "id": "725a45ce",
   "metadata": {},
   "outputs": [],
   "source": [
    "def print_order_statistics(customer_orders, products):\n",
    "    percentage_ordered = (len(customer_orders) / len(inventory)) * 100\n",
    "    print(f\"\"\"Order Statistics:\n",
    "    Total Products Ordered: {len(customer_orders)}\n",
    "    Percentage of Products Ordered: {percentage_ordered}%\"\"\")"
   ]
  },
  {
   "cell_type": "code",
   "execution_count": 60,
   "id": "f8008f6a",
   "metadata": {},
   "outputs": [],
   "source": [
    "def print_updated_inventory(inventory):\n",
    "    for product, stock in inventory.items():\n",
    "        print(f\"Updated inventory: {stock} {product}\")"
   ]
  },
  {
   "cell_type": "code",
   "execution_count": 61,
   "id": "67d2a38f",
   "metadata": {},
   "outputs": [],
   "source": [
    "products = [\"t-shirt\", \"mug\", \"hat\", \"book\", \"keychain\"]"
   ]
  },
  {
   "cell_type": "code",
   "execution_count": 62,
   "id": "5debf639",
   "metadata": {},
   "outputs": [
    {
     "name": "stdout",
     "output_type": "stream",
     "text": [
      "This is the stock available:  {'t-shirt': 489, 'mug': 147, 'hat': 846, 'book': 357, 'keychain': 846}\n"
     ]
    }
   ],
   "source": [
    "#se inicia el inventario\n",
    "inventory = initialize_inventory(products)\n",
    "\n",
    "print(\"This is the stock available: \", inventory)"
   ]
  },
  {
   "cell_type": "code",
   "execution_count": 63,
   "id": "36c8cc0c",
   "metadata": {},
   "outputs": [
    {
     "name": "stdout",
     "output_type": "stream",
     "text": [
      "Your order:  {'hat', 'book', 'mug'}\n"
     ]
    }
   ],
   "source": [
    "#Obtener pedidos de clientes\n",
    "customer_orders = get_customer_orders()\n",
    "print(\"Your order: \",customer_orders)"
   ]
  },
  {
   "cell_type": "code",
   "execution_count": 64,
   "id": "8eea35f3",
   "metadata": {},
   "outputs": [],
   "source": [
    "#Actualizar el inventario\n",
    "inventory = update_inventory(customer_orders, inventory)"
   ]
  },
  {
   "cell_type": "code",
   "execution_count": 65,
   "id": "a7dab93f",
   "metadata": {},
   "outputs": [
    {
     "name": "stdout",
     "output_type": "stream",
     "text": [
      "Order Statistics:\n",
      "    Total Products Ordered: 3\n",
      "    Percentage of Products Ordered: 60.0%\n"
     ]
    }
   ],
   "source": [
    "#Calcular estadísticas del pedido\n",
    "print_order_statistics(customer_orders, products)"
   ]
  },
  {
   "cell_type": "code",
   "execution_count": 66,
   "id": "681e92b8",
   "metadata": {},
   "outputs": [
    {
     "name": "stdout",
     "output_type": "stream",
     "text": [
      "Updated inventory: 489 t-shirt\n",
      "Updated inventory: 146 mug\n",
      "Updated inventory: 845 hat\n",
      "Updated inventory: 356 book\n",
      "Updated inventory: 846 keychain\n"
     ]
    }
   ],
   "source": [
    "#Imprimir el inventario actualizado\n",
    "print_updated_inventory(inventory)"
   ]
  }
 ],
 "metadata": {
  "kernelspec": {
   "display_name": "Python 3 (ipykernel)",
   "language": "python",
   "name": "python3"
  },
  "language_info": {
   "codemirror_mode": {
    "name": "ipython",
    "version": 3
   },
   "file_extension": ".py",
   "mimetype": "text/x-python",
   "name": "python",
   "nbconvert_exporter": "python",
   "pygments_lexer": "ipython3",
   "version": "3.11.5"
  }
 },
 "nbformat": 4,
 "nbformat_minor": 5
}
